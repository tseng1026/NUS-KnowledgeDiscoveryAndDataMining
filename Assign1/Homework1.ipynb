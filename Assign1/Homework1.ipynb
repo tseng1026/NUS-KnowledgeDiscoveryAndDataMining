{
 "cells": [
  {
   "cell_type": "markdown",
   "metadata": {},
   "source": [
    "#### Assignment 1  - YuTingTseng (E0503474)\n",
    "This answer sheet contains your answer to questions in Section 1~4. Sentences in <span style=\"color:blue\">blue</span> indicates questions to be answered. \n",
    "\n",
    "For open questions, please organize your answer into \"points\" to ease our grading efforts. For example, an answer to \"What is the most popular item? Explain you answer and describe any assumptions you’ve made.\" should look like:\n",
    "\n",
    "> The most popular item ID is 12345. The reason is that:\n",
    "> - reason 1\n",
    "> - reason 2\n",
    "> \n",
    "> I've made the following assumptions:\n",
    "> - assumption 1\n",
    "> - assumption 2\n",
    "\n",
    "If you wish to type math equations in markdown, follow this link: https://jupyter-notebook.readthedocs.io/en/stable/examples/Notebook/Working%20With%20Markdown%20Cells.html#LaTeX-equations\n",
    "\n",
    "Remember to save this Jupyter notebook as __YourNameInLumiNUS_YourNUSNETID.ipynb__."
   ]
  },
  {
   "cell_type": "markdown",
   "metadata": {},
   "source": [
    "**Import all libraries and load data here**"
   ]
  },
  {
   "cell_type": "code",
   "execution_count": 1,
   "metadata": {},
   "outputs": [],
   "source": [
    "# This is a code cell\n",
    "# -- Import all libraries and load data in this cell --\n",
    "import numpy  as np\n",
    "import pandas as pd\n",
    "import time\n",
    "import joblib\n",
    "import matplotlib.pyplot as plt\n",
    "from sklearn.cluster   import KMeans\n",
    "from efficient_apriori import apriori\n",
    "\n",
    "data1 = joblib.load(\"assignment1.data\")  # numpy.ndarray\n",
    "data2 = pd.read_csv(\"record.csv\")        # pandas.core.frame.DataFrame"
   ]
  },
  {
   "cell_type": "markdown",
   "metadata": {},
   "source": [
    "### Section 1 - Clustering and Initialization (20 points)"
   ]
  },
  {
   "cell_type": "markdown",
   "metadata": {},
   "source": [
    "<span style=\"color:blue\"> Consider the nine data points (A, B, C, D, E, F, G, H, I) in Fig. 1. Taking the points D, E, and F as the initial cluster centers, apply the K-Means algorithm on the data, with the number of clusters K = 3. At the end of each iteration, list the positions of the cluster centers, as well as the set of points belonging to each cluster. Do you think this clustering result is satisfactory? </span>"
   ]
  },
  {
   "cell_type": "markdown",
   "metadata": {},
   "source": [
    "The initial cluster centroids are the position of $D$, $E$, $F$.<br>\n",
    "```\n",
    "iter = 0: Centroids [(0,1), (0,0), (1,0)] Labels of Data [0, 1, 2, 0, 1, 2, 0, 1, 2]\n",
    "iter = 1: Centroids [(0,1), (0,0), (1,0)] Labels of Data [0, 1, 2, 0, 1, 2, 0, 1, 2]\n",
    "iter = 2: Centroids [(0,1), (0,0), (1,0)] Labels of Data [0, 1, 2, 0, 1, 2, 0, 1, 2]\n",
    "iter = 3: Centroids [(0,1), (0,0), (1,0)] Labels of Data [0, 1, 2, 0, 1, 2, 0, 1, 2]\n",
    "...\n",
    "# the clustering result remains the same after several iterations (converged)```\n",
    "\n",
    "\n",
    "I think the clustering result is <strong>not satisfactory</strong>. The reason is that:\n",
    "1. We request for <em>less intracluster distance</em> and <em>larger intercluster distance</em>. However, the situation above doesn't achieve the goal; $(A, B, C)$, $(D, E, F)$ and $(G, H, I)$ are actually a better clustering result."
   ]
  },
  {
   "cell_type": "markdown",
   "metadata": {},
   "source": [
    "<span style=\"color:blue\"> Initialization is important for K-means. Consider the following heuristic method for selecting the initial cluster center positions: <br><br>\n",
    "Choose the first center $c_1$ as the point A.<br>\n",
    "For $k=2,...,K$, set $c_k = \\underset{x\\in X}{\\arg\\max}(\\underset{i=1,...,k-1}{\\min}\\Vert x - c_i \\Vert_2)$, where X is the set of data points.<br><br>\n",
    "Apply this heuristic to the data points in Fig. 1. Show the computed cluster centers for K = 3. Next, run the K-means algorithm with the obtained cluster centers. At the end of each iteration, list the positions of the cluster centers, as well as the set of points belonging to each cluster.\n",
    "</span>"
   ]
  },
  {
   "cell_type": "markdown",
   "metadata": {},
   "source": [
    "$A$ is the first center $c_1$. We would choose the point further from $A$, the point $I$ as $c_2$. The last cluster centroid following the instructions would be $E$.<br>\n",
    "The initial cluster centroids are the position of $A$, $I$, $D$.<br>\n",
    "```\n",
    "iter = 0: Centroids [(-5,1), (5,-1), (0,0)] Labels of Data [0, 0, 0, 1, 1, 1, 2, 2, 2]\n",
    "iter = 1: Centroids [(-5,0), (5, 0), (0,0)] Labels of Data [0, 0, 0, 1, 1, 1, 2, 2, 2]\n",
    "iter = 2: Centroids [(-5,0), (5, 0), (0,0)] Labels of Data [0, 0, 0, 1, 1, 1, 2, 2, 2]\n",
    "iter = 3: Centroids [(-5,0), (5, 0), (0,0)] Labels of Data [0, 0, 0, 1, 1, 1, 2, 2, 2]\n",
    "...\n",
    "# the clustering result remains the same after several iterations (converged)```"
   ]
  },
  {
   "cell_type": "markdown",
   "metadata": {},
   "source": [
    "### Section 2 - Selecting the Number of Clusters (10 points)"
   ]
  },
  {
   "cell_type": "markdown",
   "metadata": {},
   "source": [
    "<span style=\"color:blue\"> Here, we will explore how to select the number of clusters. Using Python 3.6, load the attached data file 'assignment1.data' using the following commands:</span>\n",
    "    \n",
    "<span style=\"color:blue\">import joblib<br>X = joblib.load('assignment1.data')</span>\n",
    "\n",
    "<span style=\"color:blue\">This results in X, which is a 400 by 2 matrix, where each row is a single sample, in 2 dimensions. Apply K-means on these samples with K ranging from 1 to 10. Plot a figure, where the y-axis is the Within Cluster Sum of Squares (WCSS) after convergence, and the x-axis is K from 1 to 10: </span>\n",
    "\n",
    "<span style=\"color:blue\">$WCSS = \\sum_{k=1}^K \\sum_{x \\in C_i} \\Vert x - c_i \\Vert_2^2$</span>\n",
    "\n",
    "<span style=\"color:blue\">Select a value of K that you think is appropriate for clustering this dataset, and explain the reason. </span>"
   ]
  },
  {
   "cell_type": "code",
   "execution_count": 2,
   "metadata": {},
   "outputs": [
    {
     "name": "stdout",
     "output_type": "stream",
     "text": [
      "k =  1, wcss = 22800.675548638064356\n",
      "k =  2, wcss = 10437.716090329677172\n",
      "k =  3, wcss = 3937.528039558056662\n",
      "k =  4, wcss = 517.886091708018171\n",
      "k =  5, wcss = 463.503867042240643\n",
      "k =  6, wcss = 415.291068142373376\n",
      "k =  7, wcss = 372.013486291308482\n",
      "k =  8, wcss = 323.771281256676843\n",
      "k =  9, wcss = 298.107795891113085\n",
      "k = 10, wcss = 268.832731678196069\n"
     ]
    },
    {
     "data": {
      "image/png": "[encoded data removed]",
      "text/plain": [
       "<Figure size 432x288 with 1 Axes>"
      ]
     },
     "metadata": {
      "needs_background": "light"
     },
     "output_type": "display_data"
    }
   ],
   "source": [
    "# This is a code cell\n",
    "# -- Your code for running clustering and plotting the figure goes here.\n",
    "\n",
    "x, y = [], []\n",
    "for k in range(1, 11):\n",
    "    kmeans = KMeans(n_clusters = k, random_state = 7122).fit(data1)\n",
    "    labels = kmeans.labels_\n",
    "    center = kmeans.cluster_centers_\n",
    "\n",
    "    wcss = 0\n",
    "    for i in range(400):\n",
    "        wcss += np.sum((data1[i] - center[labels[i]]) ** 2)\n",
    "    print (\"k = {:2d}, wcss = {:.15f}\".format(k, wcss))\n",
    "    x.append(k)\n",
    "    y.append(wcss)\n",
    "\n",
    "plt.bar(x, y, .5)\n",
    "plt.xlabel(\"k clusters\")\n",
    "plt.ylabel(\"wcss\")\n",
    "plt.xticks(x)\n",
    "plt.grid(True)\n",
    "plt.show()"
   ]
  },
  {
   "cell_type": "markdown",
   "metadata": {},
   "source": [
    "I think <strong>$K = 4$</strong>  would be the best choice, the following statements are my reasons.<br>\n",
    "1. If the cluster number is $1$, $wcss$ is about $74.54$, which is actually a large number, indicating that the intracluster distance is extremely large.\n",
    "2. With the number of clusters increases, $wcss$ seems to decrease, showing that the distance within the cluster is deducing.\n",
    "3. As it goes to $4$, $wcss$ drops dramtically comparing with the previous value and tend to converge. We can get the results good enough (within $K = 1 - 10$) and simultaneously reduce the computing resource consumption."
   ]
  },
  {
   "cell_type": "markdown",
   "metadata": {},
   "source": [
    "### Section 3 - Data Cleaning and Exploration (20 points)"
   ]
  },
  {
   "cell_type": "markdown",
   "metadata": {},
   "source": [
    "<span style=\"color:blue\"> 1) Before continuing, let us examine the dataset for “dirty” records to do some data cleaning. Remove the records with negative values of the Quantity variable, and the records with NaN values of the CustomerID variable. Report how many records were removed in total. </span>"
   ]
  },
  {
   "cell_type": "markdown",
   "metadata": {},
   "source": [
    "I first add a column with index. Next, I find the list of the index of invalid records, including those with negative quantity and with NaN customerID. The total number of items in the delete list is 143985."
   ]
  },
  {
   "cell_type": "code",
   "execution_count": 3,
   "metadata": {},
   "outputs": [
    {
     "name": "stdout",
     "output_type": "stream",
     "text": [
      "Delete 143985 records\n"
     ]
    }
   ],
   "source": [
    "# This is a code cell\n",
    "# -- Your code for removing dirty records goes here --\n",
    "data2[\"Index\"] = list(range(len(data2.index)))\n",
    "deleteQ = set(data2[\"Index\"][data2[\"Quantity\"] < 0])\n",
    "deleteC = set(data2[\"Index\"][data2[\"CustomerID\"].isnull()])\n",
    "delete  = list(set.union(deleteQ, deleteC))\n",
    "delete.sort()\n",
    "print (\"Delete {} records\".format(len(delete)))\n",
    "data2 = data2.drop(delete,  axis = 0)\n",
    "data2 = data2.drop(\"Index\", axis = 1)"
   ]
  },
  {
   "cell_type": "markdown",
   "metadata": {},
   "source": [
    "<span style=\"color:blue\"> 2)~9) Please provide the answers to the questions listed in the table. </span>"
   ]
  },
  {
   "cell_type": "code",
   "execution_count": 4,
   "metadata": {},
   "outputs": [
    {
     "name": "stdout",
     "output_type": "stream",
     "text": [
      "Starting date of the dataset? 2010-12-01 08:26:00\n",
      "Ending   date of the dataset? 2011-12-09 12:50:00\n",
      "\n",
      "\n",
      "Number of Customers?     4339\n",
      "Number of Transactions? 18536\n",
      "Number of Different Kind of Items?  3665\n",
      "\n",
      "\n",
      "Number of transactions customer ID 17850 has made?     34\n",
      "Which customer (ID) has made the most transactions? 12748\n",
      "What is the item ID (i.e. StockCode) of the best-seller? 23843\n"
     ]
    }
   ],
   "source": [
    "# This is a code cell\n",
    "# -- (Optional) Your code for filling in the table goes here. --\n",
    "print (\"Starting date of the dataset? {}\".format(min(data2[\"InvoiceDate\"])))\n",
    "print (\"Ending   date of the dataset? {}\".format(max(data2[\"InvoiceDate\"])))\n",
    "print (\"\\n\")\n",
    "print (\"Number of Customers?    {:5d}\".format(len(data2.groupby(\"CustomerID\"))))\n",
    "print (\"Number of Transactions? {:5d}\".format(len(data2.groupby(\"InvoiceNo\" ))))\n",
    "print (\"Number of Different Kind of Items? {:5d}\".format(len(data2.groupby(\"StockCode\"))))\n",
    "print (\"\\n\")\n",
    "print (\"Number of transactions customer ID 17850 has made?  {:5d}\" .format(data2.groupby(\"CustomerID\")[\"InvoiceNo\"].nunique().at[17850.0]))\n",
    "print (\"Which customer (ID) has made the most transactions? {:.0f}\".format(data2.groupby(\"CustomerID\")[\"InvoiceNo\"].nunique().idxmax()))\n",
    "print (\"What is the item ID (i.e. StockCode) of the best-seller? {}\".format(data2.groupby(\"StockCode\")[\"Quantity\"].sum().idxmax()))"
   ]
  },
  {
   "cell_type": "markdown",
   "metadata": {},
   "source": [
    "This is a markdown cell. Please fill in your answer for (2)~(9).\n",
    "\n",
    "| No. | Question                                                                                                   | Answer       |\n",
    "|-----|------------------------------------------------------------------------------------------------------------|--------------|\n",
    "| 2)  | Starting date of the dataset?                                                                              | 2010-12-01 |\n",
    "| 3)  | Ending date of the dataset?                                                                                | 2011-12-09 |\n",
    "| 4)  | Number of customers?                                                                                       | 4339 |\n",
    "| 5)  | Number of transactions?                                                                                    | 18536 |\n",
    "| 6)  | Number of different kind of items?                                                                         | 3665 |\n",
    "| 7)  | Number of transactions customer ID 17850 has made?                                                         | 34 |\n",
    "| 8)  | Which customer (ID) has made the most transactions?                                                        | 12748 |\n",
    "| 9)  | What is the item ID (i.e. StockCode) of the best-seller? We define \"best-seller\" as the item with the highest sales volume. | 23843 |"
   ]
  },
  {
   "cell_type": "markdown",
   "metadata": {},
   "source": [
    "<span style=\"color:blue\"> 10) Next, let us get some general understanding about the transactions. Please make a histogram of the number of unique items per transaction (as described below) and describe one insight that you can observe from the plot.  \n",
    "(Note: You can plot this histogram by running matplotlib.hist() with 200 bins on the sequence of values $n_1, …, n_N$, where $n_i$ is the number of unique items in transaction $i$. This produces a histogram with “number of unique items in transaction” in the x-axis, and “count” in the y-axis, i.e. each bar counts how many transactions fall into the corresponding bucket. It is sufficient to comment on the general shape of the curve and what it implies about the data; it’s fine if the insight does not seem especially interesting.)\n",
    "</span>"
   ]
  },
  {
   "cell_type": "code",
   "execution_count": 5,
   "metadata": {},
   "outputs": [
    {
     "data": {
      "image/png": "[encoded data removed]",
      "text/plain": [
       "<Figure size 432x288 with 1 Axes>"
      ]
     },
     "metadata": {
      "needs_background": "light"
     },
     "output_type": "display_data"
    }
   ],
   "source": [
    "# This is a code cell\n",
    "# --- Your code for generating the histogram goes here ---\n",
    "tmp = data2.groupby(\"InvoiceNo\")[\"StockCode\"].nunique().values\n",
    "\n",
    "plt.hist(tmp, bins = 200)\n",
    "plt.xlabel(\"number of unique items in transaction\")\n",
    "plt.ylabel(\"count\")\n",
    "plt.xlim(0, 200)\n",
    "plt.grid(True)\n",
    "plt.show()\n",
    "plt.show()"
   ]
  },
  {
   "cell_type": "markdown",
   "metadata": {},
   "source": [
    "The distribution is similar to exponential distribution. It showed that most of the people tend to buy a little number of unique items once.\n",
    "1. The count decreases dramatically when the number of unique items in transaction increases at first.\n",
    "2. The count turns to small decline subsequently even though the number of unique items in transaction is still inclining.\n",
    "3. Perhaps most people do not need so many different things in their daily lifes (only need to buy what they lack)."
   ]
  },
  {
   "cell_type": "markdown",
   "metadata": {},
   "source": [
    "#### Section 4 - Mining Association Rules"
   ]
  },
  {
   "cell_type": "markdown",
   "metadata": {},
   "source": [
    "<span style=\"color:blue\"> 1) Will we complete the counting before the sun burns out (the sun has another $ 5 \\times 10^9 < 2^{33} $ years to burn)? </span>"
   ]
  },
  {
   "cell_type": "markdown",
   "metadata": {},
   "source": [
    "<em>No</em>. The reason is as below:\n",
    "1. The total number of all possible itemsets would be approximate $3^n$, where $n$ is the number of the item. In this case, $n=3665$.\n",
    "2. We need about $\\frac{3^{3665}*2}{2^{36}}>2^{3630}$ seconds to consider compute the support and confidence for each rule.\n",
    "3. It is obviously that the needed time is much larger than $2^{33}*60*60*24*265$."
   ]
  },
  {
   "cell_type": "code",
   "execution_count": 6,
   "metadata": {},
   "outputs": [],
   "source": [
    "# This is a code cell\n",
    "# --- Your code for preprocessing transactions goes here ---\n",
    "transactions = data2.groupby(\"InvoiceNo\")[\"StockCode\"].apply(list)"
   ]
  },
  {
   "cell_type": "markdown",
   "metadata": {},
   "source": [
    "<span style=\"color:blue\"> 2) Run efficient-apriori in python with min_support=0.025, min_confidence=0.2, max_length=4. Write down the number of rules found and the rule with the highest lift. </span>"
   ]
  },
  {
   "cell_type": "code",
   "execution_count": 7,
   "metadata": {},
   "outputs": [
    {
     "name": "stdout",
     "output_type": "stream",
     "text": [
      "Time Usage: 17.577211\n",
      "22\n",
      "{85099B} -> {23203} (conf: 0.292, supp: 0.025, lift: 5.020, conv: 1.331)\n",
      "{23203} -> {85099B} (conf: 0.433, supp: 0.025, lift: 5.020, conv: 1.612)\n",
      "{22382} -> {20725} (conf: 0.473, supp: 0.025, lift: 6.797, conv: 1.764)\n",
      "{20725} -> {22382} (conf: 0.362, supp: 0.025, lift: 6.797, conv: 1.485)\n",
      "{20727} -> {20725} (conf: 0.491, supp: 0.028, lift: 7.067, conv: 1.830)\n",
      "{20725} -> {20727} (conf: 0.401, supp: 0.028, lift: 7.067, conv: 1.575)\n",
      "{22383} -> {20725} (conf: 0.498, supp: 0.028, lift: 7.156, conv: 1.852)\n",
      "{20725} -> {22383} (conf: 0.403, supp: 0.028, lift: 7.156, conv: 1.580)\n",
      "{85099B} -> {22386} (conf: 0.341, supp: 0.029, lift: 7.262, conv: 1.447)\n",
      "{22386} -> {85099B} (conf: 0.627, supp: 0.029, lift: 7.262, conv: 2.449)\n",
      "{22383} -> {20727} (conf: 0.446, supp: 0.025, lift: 7.855, conv: 1.702)\n",
      "{20727} -> {22383} (conf: 0.442, supp: 0.025, lift: 7.855, conv: 1.691)\n",
      "{22384} -> {20725} (conf: 0.562, supp: 0.028, lift: 8.078, conv: 2.123)\n",
      "{20725} -> {22384} (conf: 0.406, supp: 0.028, lift: 8.078, conv: 1.598)\n",
      "{22384} -> {20727} (conf: 0.498, supp: 0.025, lift: 8.781, conv: 1.880)\n",
      "{20727} -> {22384} (conf: 0.441, supp: 0.025, lift: 8.781, conv: 1.699)\n",
      "{82494L} -> {82482} (conf: 0.577, supp: 0.025, lift: 12.211, conv: 2.253)\n",
      "{82482} -> {82494L} (conf: 0.534, supp: 0.025, lift: 12.211, conv: 2.053)\n",
      "{22727} -> {22726} (conf: 0.604, supp: 0.029, lift: 14.198, conv: 2.420)\n",
      "{22726} -> {22727} (conf: 0.672, supp: 0.029, lift: 14.198, conv: 2.902)\n",
      "{22699} -> {22697} (conf: 0.691, supp: 0.029, lift: 18.534, conv: 3.115)\n",
      "{22697} -> {22699} (conf: 0.783, supp: 0.029, lift: 18.534, conv: 4.412)\n"
     ]
    }
   ],
   "source": [
    "# This is a code cell\n",
    "# --- Your code for apriori algorithm goes here ---\n",
    "beg = time.time()\n",
    "itemsets, rules = apriori(list(transactions.values), min_support = 0.025, min_confidence = 0.2, max_length = 4)\n",
    "end = time.time()\n",
    "\n",
    "print (\"Time Usage: {:.6f}\".format(end - beg))\n",
    "print (len(rules))\n",
    "for rule in sorted(rules, key = lambda rule: rule.lift):\n",
    "    print (rule)"
   ]
  },
  {
   "cell_type": "markdown",
   "metadata": {},
   "source": [
    "The number of rules: 22<br>\n",
    "The rule with the highest lift:\n",
    "* {22699} -> {22697} (conf: 0.691, supp: 0.029, lift: 18.534, conv: 3.115)\n",
    "* {22697} -> {22699} (conf: 0.783, supp: 0.029, lift: 18.534, conv: 4.412)"
   ]
  },
  {
   "cell_type": "markdown",
   "metadata": {},
   "source": [
    "<span style=\"color:blue\"> 3) Run efficient-apriori in python with min_support=0.02, min_confidence=0.2, max_length=4. Write down the number of rules found and the rule with the highest lift. </span>"
   ]
  },
  {
   "cell_type": "code",
   "execution_count": 8,
   "metadata": {},
   "outputs": [
    {
     "name": "stdout",
     "output_type": "stream",
     "text": [
      "Time Usage: 46.565479\n",
      "88\n",
      "{85099B} -> {20725} (conf: 0.266, supp: 0.023, lift: 3.820, conv: 1.267)\n",
      "{20725} -> {85099B} (conf: 0.330, supp: 0.023, lift: 3.820, conv: 1.363)\n",
      "{85099B} -> {23203} (conf: 0.292, supp: 0.025, lift: 5.020, conv: 1.331)\n",
      "{23203} -> {85099B} (conf: 0.433, supp: 0.025, lift: 5.020, conv: 1.612)\n",
      "{47566} -> {23298} (conf: 0.282, supp: 0.021, lift: 5.178, conv: 1.317)\n",
      "{23298} -> {47566} (conf: 0.386, supp: 0.021, lift: 5.178, conv: 1.506)\n",
      "{85099B} -> {22411} (conf: 0.247, supp: 0.021, lift: 5.807, conv: 1.272)\n",
      "{22411} -> {85099B} (conf: 0.501, supp: 0.021, lift: 5.807, conv: 1.832)\n",
      "{22699} -> {22423} (conf: 0.536, supp: 0.023, lift: 5.835, conv: 1.959)\n",
      "{22423} -> {22699} (conf: 0.246, supp: 0.023, lift: 5.835, conv: 1.271)\n",
      "{22697} -> {22423} (conf: 0.541, supp: 0.020, lift: 5.888, conv: 1.979)\n",
      "{22423} -> {22697} (conf: 0.219, supp: 0.020, lift: 5.888, conv: 1.233)\n",
      "{23209} -> {20725} (conf: 0.417, supp: 0.023, lift: 5.989, conv: 1.595)\n",
      "{20725} -> {23209} (conf: 0.325, supp: 0.023, lift: 5.989, conv: 1.401)\n",
      "{85123A} -> {21733} (conf: 0.231, supp: 0.025, lift: 6.307, conv: 1.253)\n",
      "{21733} -> {85123A} (conf: 0.673, supp: 0.025, lift: 6.307, conv: 2.732)\n",
      "{23206} -> {20725} (conf: 0.449, supp: 0.021, lift: 6.459, conv: 1.689)\n",
      "{20725} -> {23206} (conf: 0.302, supp: 0.021, lift: 6.459, conv: 1.365)\n",
      "{85099B} -> {21931} (conf: 0.271, supp: 0.023, lift: 6.496, conv: 1.315)\n",
      "{21931} -> {85099B} (conf: 0.561, supp: 0.023, lift: 6.496, conv: 2.080)\n",
      "{22382} -> {20725} (conf: 0.473, supp: 0.025, lift: 6.797, conv: 1.764)\n",
      "{20725} -> {22382} (conf: 0.362, supp: 0.025, lift: 6.797, conv: 1.485)\n",
      "{20728} -> {20725} (conf: 0.475, supp: 0.025, lift: 6.833, conv: 1.773)\n",
      "{20725} -> {20728} (conf: 0.356, supp: 0.025, lift: 6.833, conv: 1.472)\n",
      "{20727} -> {20725} (conf: 0.491, supp: 0.028, lift: 7.067, conv: 1.830)\n",
      "{20725} -> {20727} (conf: 0.401, supp: 0.028, lift: 7.067, conv: 1.575)\n",
      "{22383} -> {20725} (conf: 0.498, supp: 0.028, lift: 7.156, conv: 1.852)\n",
      "{20725} -> {22383} (conf: 0.403, supp: 0.028, lift: 7.156, conv: 1.580)\n",
      "{85099B} -> {22386} (conf: 0.341, supp: 0.029, lift: 7.262, conv: 1.447)\n",
      "{22386} -> {85099B} (conf: 0.627, supp: 0.029, lift: 7.262, conv: 2.449)\n",
      "{85099F} -> {85099B} (conf: 0.633, supp: 0.022, lift: 7.334, conv: 2.490)\n",
      "{85099B} -> {85099F} (conf: 0.259, supp: 0.022, lift: 7.334, conv: 1.301)\n",
      "{22382} -> {20727} (conf: 0.423, supp: 0.023, lift: 7.455, conv: 1.635)\n",
      "{20727} -> {22382} (conf: 0.397, supp: 0.023, lift: 7.455, conv: 1.571)\n",
      "{23209} -> {23203} (conf: 0.440, supp: 0.024, lift: 7.558, conv: 1.683)\n",
      "{23203} -> {23209} (conf: 0.410, supp: 0.024, lift: 7.558, conv: 1.603)\n",
      "{20726} -> {20725} (conf: 0.528, supp: 0.023, lift: 7.593, conv: 1.972)\n",
      "{20725} -> {20726} (conf: 0.336, supp: 0.023, lift: 7.593, conv: 1.439)\n",
      "{22382} -> {20728} (conf: 0.396, supp: 0.021, lift: 7.594, conv: 1.569)\n",
      "{20728} -> {22382} (conf: 0.405, supp: 0.021, lift: 7.594, conv: 1.590)\n",
      "{22384} -> {22383} (conf: 0.430, supp: 0.022, lift: 7.636, conv: 1.655)\n",
      "{22383} -> {22384} (conf: 0.384, supp: 0.022, lift: 7.636, conv: 1.541)\n",
      "{20728} -> {20727} (conf: 0.436, supp: 0.023, lift: 7.679, conv: 1.672)\n",
      "{20727} -> {20728} (conf: 0.400, supp: 0.023, lift: 7.679, conv: 1.580)\n",
      "{22383} -> {20727} (conf: 0.446, supp: 0.025, lift: 7.855, conv: 1.702)\n",
      "{20727} -> {22383} (conf: 0.442, supp: 0.025, lift: 7.855, conv: 1.691)\n",
      "{22383} -> {22382} (conf: 0.429, supp: 0.024, lift: 8.040, conv: 1.657)\n",
      "{22382} -> {22383} (conf: 0.452, supp: 0.024, lift: 8.040, conv: 1.723)\n",
      "{22384} -> {20725} (conf: 0.562, supp: 0.028, lift: 8.078, conv: 2.123)\n",
      "{20725} -> {22384} (conf: 0.406, supp: 0.028, lift: 8.078, conv: 1.598)\n",
      "{23209} -> {23206} (conf: 0.378, supp: 0.021, lift: 8.085, conv: 1.532)\n",
      "{23206} -> {23209} (conf: 0.439, supp: 0.021, lift: 8.085, conv: 1.685)\n",
      "{22383} -> {20728} (conf: 0.433, supp: 0.024, lift: 8.316, conv: 1.673)\n",
      "{20728} -> {22383} (conf: 0.468, supp: 0.024, lift: 8.316, conv: 1.774)\n",
      "{22384} -> {20727} (conf: 0.498, supp: 0.025, lift: 8.781, conv: 1.880)\n",
      "{20727} -> {22384} (conf: 0.441, supp: 0.025, lift: 8.781, conv: 1.699)\n",
      "{22384} -> {20728} (conf: 0.459, supp: 0.023, lift: 8.801, conv: 1.751)\n",
      "{20728} -> {22384} (conf: 0.442, supp: 0.023, lift: 8.801, conv: 1.702)\n",
      "{22382} -> {20726} (conf: 0.410, supp: 0.022, lift: 9.266, conv: 1.620)\n",
      "{20726} -> {22382} (conf: 0.494, supp: 0.022, lift: 9.266, conv: 1.871)\n",
      "{23203} -> {23202} (conf: 0.396, supp: 0.023, lift: 9.515, conv: 1.587)\n",
      "{23202} -> {23203} (conf: 0.554, supp: 0.023, lift: 9.515, conv: 2.113)\n",
      "{22470} -> {22469} (conf: 0.508, supp: 0.022, lift: 9.801, conv: 1.928)\n",
      "{22469} -> {22470} (conf: 0.424, supp: 0.022, lift: 9.801, conv: 1.660)\n",
      "{82494L} -> {82482} (conf: 0.577, supp: 0.025, lift: 12.211, conv: 2.253)\n",
      "{82482} -> {82494L} (conf: 0.534, supp: 0.025, lift: 12.211, conv: 2.053)\n",
      "{22910} -> {22086} (conf: 0.647, supp: 0.024, lift: 12.239, conv: 2.684)\n",
      "{22086} -> {22910} (conf: 0.460, supp: 0.024, lift: 12.239, conv: 1.783)\n",
      "{22728} -> {22727} (conf: 0.646, supp: 0.021, lift: 13.654, conv: 2.691)\n",
      "{22727} -> {22728} (conf: 0.452, supp: 0.021, lift: 13.654, conv: 1.763)\n",
      "{22727} -> {22726} (conf: 0.604, supp: 0.029, lift: 14.198, conv: 2.420)\n",
      "{22726} -> {22727} (conf: 0.672, supp: 0.029, lift: 14.198, conv: 2.902)\n",
      "{23301} -> {23300} (conf: 0.612, supp: 0.025, lift: 17.877, conv: 2.492)\n",
      "{23300} -> {23301} (conf: 0.729, supp: 0.025, lift: 17.877, conv: 3.541)\n",
      "{22630} -> {22629} (conf: 0.688, supp: 0.023, lift: 18.123, conv: 3.086)\n",
      "{22629} -> {22630} (conf: 0.602, supp: 0.023, lift: 18.123, conv: 2.431)\n",
      "{22699} -> {22697} (conf: 0.691, supp: 0.029, lift: 18.534, conv: 3.115)\n",
      "{22697} -> {22699} (conf: 0.783, supp: 0.029, lift: 18.534, conv: 4.412)\n",
      "{22699} -> {22698} (conf: 0.557, supp: 0.024, lift: 18.564, conv: 2.189)\n",
      "{22698} -> {22699} (conf: 0.784, supp: 0.024, lift: 18.564, conv: 4.438)\n",
      "{22697, 22698} -> {22699} (conf: 0.848, supp: 0.021, lift: 20.071, conv: 6.294)\n",
      "{22699} -> {22697, 22698} (conf: 0.498, supp: 0.021, lift: 20.071, conv: 1.943)\n",
      "{22698} -> {22697} (conf: 0.827, supp: 0.025, lift: 22.193, conv: 5.576)\n",
      "{22697} -> {22698} (conf: 0.666, supp: 0.025, lift: 22.193, conv: 2.902)\n",
      "{22698, 22699} -> {22697} (conf: 0.894, supp: 0.021, lift: 23.995, conv: 9.125)\n",
      "{22697} -> {22698, 22699} (conf: 0.564, supp: 0.021, lift: 23.995, conv: 2.242)\n",
      "{22697, 22699} -> {22698} (conf: 0.721, supp: 0.021, lift: 24.033, conv: 3.475)\n",
      "{22698} -> {22697, 22699} (conf: 0.701, supp: 0.021, lift: 24.033, conv: 3.252)\n"
     ]
    }
   ],
   "source": [
    "# This is a code cell\n",
    "# --- Your code for apriori algorithm goes here ---\n",
    "beg = time.time()\n",
    "itemsets, rules = apriori(list(transactions.values), min_support = 0.020, min_confidence = 0.2, max_length = 4)\n",
    "end = time.time()\n",
    "\n",
    "print (\"Time Usage: {:.6f}\".format(end - beg))\n",
    "print (len(rules))\n",
    "for rule in sorted(rules, key = lambda rule: rule.lift):\n",
    "    print (rule)"
   ]
  },
  {
   "cell_type": "markdown",
   "metadata": {},
   "source": [
    "The number of rules: 88<br>\n",
    "The rule with the highest lift:\n",
    "* {22697, 22699} -> {22698} (conf: 0.721, supp: 0.021, lift: 24.033, conv: 3.475)\n",
    "* {22698} -> {22697, 22699} (conf: 0.701, supp: 0.021, lift: 24.033, conv: 3.252)"
   ]
  },
  {
   "cell_type": "markdown",
   "metadata": {},
   "source": [
    "<span style=\"color:blue\"> 4) Run efficient-apriori in python with min_support=0.025, min_confidence=0.4, max_length=4. Write down the number of rules found and the rule with the highest lift. </span>"
   ]
  },
  {
   "cell_type": "code",
   "execution_count": 9,
   "metadata": {},
   "outputs": [
    {
     "name": "stdout",
     "output_type": "stream",
     "text": [
      "Time Usage: 18.066964\n",
      "19\n",
      "{23203} -> {85099B} (conf: 0.433, supp: 0.025, lift: 5.020, conv: 1.612)\n",
      "{22382} -> {20725} (conf: 0.473, supp: 0.025, lift: 6.797, conv: 1.764)\n",
      "{20727} -> {20725} (conf: 0.491, supp: 0.028, lift: 7.067, conv: 1.830)\n",
      "{20725} -> {20727} (conf: 0.401, supp: 0.028, lift: 7.067, conv: 1.575)\n",
      "{22383} -> {20725} (conf: 0.498, supp: 0.028, lift: 7.156, conv: 1.852)\n",
      "{20725} -> {22383} (conf: 0.403, supp: 0.028, lift: 7.156, conv: 1.580)\n",
      "{22386} -> {85099B} (conf: 0.627, supp: 0.029, lift: 7.262, conv: 2.449)\n",
      "{22383} -> {20727} (conf: 0.446, supp: 0.025, lift: 7.855, conv: 1.702)\n",
      "{20727} -> {22383} (conf: 0.442, supp: 0.025, lift: 7.855, conv: 1.691)\n",
      "{22384} -> {20725} (conf: 0.562, supp: 0.028, lift: 8.078, conv: 2.123)\n",
      "{20725} -> {22384} (conf: 0.406, supp: 0.028, lift: 8.078, conv: 1.598)\n",
      "{22384} -> {20727} (conf: 0.498, supp: 0.025, lift: 8.781, conv: 1.880)\n",
      "{20727} -> {22384} (conf: 0.441, supp: 0.025, lift: 8.781, conv: 1.699)\n",
      "{82494L} -> {82482} (conf: 0.577, supp: 0.025, lift: 12.211, conv: 2.253)\n",
      "{82482} -> {82494L} (conf: 0.534, supp: 0.025, lift: 12.211, conv: 2.053)\n",
      "{22727} -> {22726} (conf: 0.604, supp: 0.029, lift: 14.198, conv: 2.420)\n",
      "{22726} -> {22727} (conf: 0.672, supp: 0.029, lift: 14.198, conv: 2.902)\n",
      "{22699} -> {22697} (conf: 0.691, supp: 0.029, lift: 18.534, conv: 3.115)\n",
      "{22697} -> {22699} (conf: 0.783, supp: 0.029, lift: 18.534, conv: 4.412)\n"
     ]
    }
   ],
   "source": [
    "# This is a code cell\n",
    "# --- Your code for apriori algorithm goes here ---\n",
    "beg = time.time()\n",
    "itemsets, rules = apriori(list(transactions.values), min_support = 0.025, min_confidence = 0.4, max_length = 4)\n",
    "end = time.time()\n",
    "\n",
    "print (\"Time Usage: {:.6f}\".format(end - beg))\n",
    "print (len(rules))\n",
    "for rule in sorted(rules, key = lambda rule: rule.lift):\n",
    "    print (rule)"
   ]
  },
  {
   "cell_type": "markdown",
   "metadata": {},
   "source": [
    "The number of rules: 19<br>\n",
    "The rule with the highest lift:\n",
    "* {22699} -> {22697} (conf: 0.691, supp: 0.029, lift: 18.534, conv: 3.115)\n",
    "* {22697} -> {22699} (conf: 0.783, supp: 0.029, lift: 18.534, conv: 4.412)"
   ]
  },
  {
   "cell_type": "markdown",
   "metadata": {},
   "source": [
    "<span style=\"color:blue\"> 5) Compare the first two cases. How do they differ in the time taken for the algorithm to run, the number of rules found, and the lift of the highest lift rule? Briefly explain why each of these findings occur, based on the effects of changing min_support.  </span>"
   ]
  },
  {
   "cell_type": "markdown",
   "metadata": {},
   "source": [
    "The second case with the smaller ```min_support``` has more rules found. It took about 40 seconds, while the first case spent only 18 seconds. The reason is shown below:\n",
    "1. The support refers to the popularity of an itemset (the number of transactions with both itemsets / total number of transactions); which indicates that the supports of rules are fixed by the data we got.\n",
    "2. If we set the threshold higher, the number of the rules that are satisfied would decrease.\n",
    "3. It is intuitive that the more rules we consider, the more time we need to compute the results.\n",
    "\n",
    "In addition, the highest lift of the first case is about 18 wheras that of the second case is about 24. This is because that:\n",
    "1. lift = confidence / support\n",
    "2. We consider the itemsets with lower support, lead to the formula with smaller denominator.\n",
    "3. We got the maximum lift with larger result."
   ]
  },
  {
   "cell_type": "markdown",
   "metadata": {},
   "source": [
    "<span style=\"color:blue\"> 6) Compare the first and third case. How do they differ in the number of rules found? Briefly explain why this finding occurs, based on the effects of changing min_confidence. </span>"
   ]
  },
  {
   "cell_type": "markdown",
   "metadata": {},
   "source": [
    "There are more rules in the first case. The only difference condition is ```min_confidence```. The main reason is stated:\n",
    "1. The confidences refers to the likelihood that an itemset is also bought if the other is bought (the number of transactions with both itemsets / total number of transactions containing specific itemset); which points that the confidences between each itemsets are fixed.\n",
    "2. If we set the threshold higher, the number of the rules that are satisfied would decrease."
   ]
  },
  {
   "cell_type": "markdown",
   "metadata": {},
   "source": [
    "<span style=\"color:blue\"> 7) Report the descriptions of the items associated with the highest lift rule you found in the three queries (you may use any method to do this). Does the rule make sense? </span>"
   ]
  },
  {
   "cell_type": "code",
   "execution_count": 10,
   "metadata": {},
   "outputs": [
    {
     "name": "stdout",
     "output_type": "stream",
     "text": [
      "ROSES REGENCY TEACUP AND SAUCER \n",
      "GREEN REGENCY TEACUP AND SAUCER\n",
      "PINK REGENCY TEACUP AND SAUCER\n"
     ]
    }
   ],
   "source": [
    "tmp = data2[[\"StockCode\", \"Description\"]].drop_duplicates()\n",
    "tmp.set_index(\"StockCode\", inplace=True)\n",
    "print (tmp.at[\"22699\", \"Description\"])\n",
    "print (tmp.at[\"22697\", \"Description\"])\n",
    "print (tmp.at[\"22698\", \"Description\"])"
   ]
  },
  {
   "cell_type": "markdown",
   "metadata": {},
   "source": [
    "Scenario 1:\n",
    "* {22699} -> {22697} (conf: 0.691, supp: 0.029, lift: 18.534, conv: 3.115)\n",
    "* {22697} -> {22699} (conf: 0.783, supp: 0.029, lift: 18.534, conv: 4.412)\n",
    "\n",
    "Scenario 2:\n",
    "* {22697, 22699} -> {22698} (conf: 0.721, supp: 0.021, lift: 24.033, conv: 3.475)\n",
    "* {22698} -> {22697, 22699} (conf: 0.701, supp: 0.021, lift: 24.033, conv: 3.252)\n",
    "\n",
    "Scenario 3:\n",
    "* {22699} -> {22697} (conf: 0.691, supp: 0.029, lift: 18.534, conv: 3.115)\n",
    "* {22697} -> {22699} (conf: 0.783, supp: 0.029, lift: 18.534, conv: 4.412)\n",
    "\n",
    "Descriptions:\n",
    "* 22697: ```GREEN REGENCY TEACUP AND SAUCER```\n",
    "* 22698: ```PINK  REGENCY TEACUP AND SAUCER```\n",
    "* 22699: ```ROSES REGENCY TEACUP AND SAUCER```\n",
    "\n",
    "I think it make sense cause:\n",
    "1. \"Regency teacup and saucer\" is a special category compared to other, such as clothes.\n",
    "2. People who like regency teacup and saucer usually like to collect them, and perhaps treat them in pairs as decoration.\n",
    "3. They might need various styles for different occasion or to match the personalities."
   ]
  },
  {
   "cell_type": "code",
   "execution_count": null,
   "metadata": {},
   "outputs": [],
   "source": []
  }
 ],
 "metadata": {
  "kernelspec": {
   "display_name": "Python 3",
   "language": "python",
   "name": "python3"
  },
  "language_info": {
   "codemirror_mode": {
    "name": "ipython",
    "version": 3
   },
   "file_extension": ".py",
   "mimetype": "text/x-python",
   "name": "python",
   "nbconvert_exporter": "python",
   "pygments_lexer": "ipython3",
   "version": "3.7.4"
  }
 },
 "nbformat": 4,
 "nbformat_minor": 2
}
